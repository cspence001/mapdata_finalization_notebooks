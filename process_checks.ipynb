{
 "cells": [
  {
   "cell_type": "code",
   "execution_count": 1,
   "metadata": {},
   "outputs": [],
   "source": [
    "import pandas as pd\n",
    "import numpy as np\n",
    "import os"
   ]
  },
  {
   "attachments": {},
   "cell_type": "markdown",
   "metadata": {},
   "source": [
    "<h3>Finalization NoteBooks"
   ]
  },
  {
   "attachments": {},
   "cell_type": "markdown",
   "metadata": {},
   "source": [
    "<h4>Main Label Pipeline Check"
   ]
  },
  {
   "attachments": {},
   "cell_type": "markdown",
   "metadata": {},
   "source": [
    "<h5>Raw Input File"
   ]
  },
  {
   "cell_type": "code",
   "execution_count": 2,
   "metadata": {},
   "outputs": [],
   "source": [
    "csvpath_21=(\"../data/raw/>150K/public_150k_plus_211121_add.csv\")\n",
    "csvpath_23=(\"../data/raw/>150K/public_150k_plus_230630.csv\")"
   ]
  },
  {
   "cell_type": "code",
   "execution_count": 3,
   "metadata": {},
   "outputs": [
    {
     "name": "stdout",
     "output_type": "stream",
     "text": [
      "433.59666538238525\n",
      "429.54480171203613\n"
     ]
    }
   ],
   "source": [
    "size21= os.path.getsize(csvpath_21)/1024**2\n",
    "size23= os.path.getsize(csvpath_23)/1024**2\n",
    "print(size21)\n",
    "print(size23)"
   ]
  },
  {
   "cell_type": "code",
   "execution_count": 4,
   "metadata": {},
   "outputs": [],
   "source": [
    "ppp_df_21= pd.read_csv(csvpath_21, index_col=0) #drops Unnamed; alt: df = df.loc[:, ~df.columns.str.contains('^Unnamed')] OR df.loc[:, ~df.columns.str.match('Unnamed')]\n",
    "ppp_df_23= pd.read_csv(csvpath_23)"
   ]
  },
  {
   "cell_type": "code",
   "execution_count": 5,
   "metadata": {},
   "outputs": [
    {
     "name": "stdout",
     "output_type": "stream",
     "text": [
      "968557\n",
      "965552\n"
     ]
    }
   ],
   "source": [
    "print(ppp_df_21.shape[0])\n",
    "print(ppp_df_23.shape[0])"
   ]
  },
  {
   "cell_type": "code",
   "execution_count": 6,
   "metadata": {},
   "outputs": [
    {
     "name": "stdout",
     "output_type": "stream",
     "text": [
      "Index(['LoanNumber', 'DateApproved', 'SBAOfficeCode', 'ProcessingMethod',\n",
      "       'BorrowerName', 'BorrowerAddress', 'BorrowerCity', 'BorrowerState',\n",
      "       'BorrowerZip', 'LoanStatusDate', 'LoanStatus', 'Term',\n",
      "       'SBAGuarantyPercentage', 'InitialApprovalAmount',\n",
      "       'CurrentApprovalAmount', 'UndisbursedAmount', 'FranchiseName',\n",
      "       'ServicingLenderLocationID', 'ServicingLenderName',\n",
      "       'ServicingLenderAddress', 'ServicingLenderCity', 'ServicingLenderState',\n",
      "       'ServicingLenderZip', 'RuralUrbanIndicator', 'HubzoneIndicator',\n",
      "       'LMIIndicator', 'BusinessAgeDescription', 'ProjectCity',\n",
      "       'ProjectCountyName', 'ProjectState', 'ProjectZip', 'CD', 'JobsReported',\n",
      "       'NAICSCode', 'Race', 'Ethnicity', 'UTILITIES_PROCEED',\n",
      "       'PAYROLL_PROCEED', 'MORTGAGE_INTEREST_PROCEED', 'RENT_PROCEED',\n",
      "       'REFINANCE_EIDL_PROCEED', 'HEALTH_CARE_PROCEED',\n",
      "       'DEBT_INTEREST_PROCEED', 'BusinessType', 'OriginatingLenderLocationID',\n",
      "       'OriginatingLender', 'OriginatingLenderCity', 'OriginatingLenderState',\n",
      "       'Gender', 'Veteran', 'NonProfit', 'ForgivenessAmount',\n",
      "       'ForgivenessDate'],\n",
      "      dtype='object')\n",
      "Index(['LoanNumber', 'DateApproved', 'SBAOfficeCode', 'ProcessingMethod',\n",
      "       'BorrowerName', 'BorrowerAddress', 'BorrowerCity', 'BorrowerState',\n",
      "       'BorrowerZip', 'LoanStatusDate', 'LoanStatus', 'Term',\n",
      "       'SBAGuarantyPercentage', 'InitialApprovalAmount',\n",
      "       'CurrentApprovalAmount', 'UndisbursedAmount', 'FranchiseName',\n",
      "       'ServicingLenderLocationID', 'ServicingLenderName',\n",
      "       'ServicingLenderAddress', 'ServicingLenderCity', 'ServicingLenderState',\n",
      "       'ServicingLenderZip', 'RuralUrbanIndicator', 'HubzoneIndicator',\n",
      "       'LMIIndicator', 'BusinessAgeDescription', 'ProjectCity',\n",
      "       'ProjectCountyName', 'ProjectState', 'ProjectZip', 'CD', 'JobsReported',\n",
      "       'NAICSCode', 'Race', 'Ethnicity', 'UTILITIES_PROCEED',\n",
      "       'PAYROLL_PROCEED', 'MORTGAGE_INTEREST_PROCEED', 'RENT_PROCEED',\n",
      "       'REFINANCE_EIDL_PROCEED', 'HEALTH_CARE_PROCEED',\n",
      "       'DEBT_INTEREST_PROCEED', 'BusinessType', 'OriginatingLenderLocationID',\n",
      "       'OriginatingLender', 'OriginatingLenderCity', 'OriginatingLenderState',\n",
      "       'Gender', 'Veteran', 'NonProfit', 'ForgivenessAmount',\n",
      "       'ForgivenessDate'],\n",
      "      dtype='object')\n",
      "53\n",
      "53\n"
     ]
    }
   ],
   "source": [
    "print(ppp_df_21.columns)\n",
    "print(ppp_df_23.columns)\n",
    "print(len(ppp_df_21.columns))\n",
    "print(len(ppp_df_23.columns))"
   ]
  },
  {
   "cell_type": "code",
   "execution_count": 12,
   "metadata": {},
   "outputs": [
    {
     "name": "stdout",
     "output_type": "stream",
     "text": [
      "LoanNumber                          0\n",
      "DateApproved                        0\n",
      "SBAOfficeCode                       0\n",
      "ProcessingMethod                    0\n",
      "BorrowerName                        4\n",
      "BorrowerAddress                     6\n",
      "BorrowerCity                        4\n",
      "BorrowerState                       0\n",
      "BorrowerZip                        12\n",
      "LoanStatusDate                 281932\n",
      "LoanStatus                          0\n",
      "Term                                0\n",
      "SBAGuarantyPercentage               0\n",
      "InitialApprovalAmount               0\n",
      "CurrentApprovalAmount               0\n",
      "UndisbursedAmount                 219\n",
      "FranchiseName                  933151\n",
      "ServicingLenderLocationID           0\n",
      "ServicingLenderName                 0\n",
      "ServicingLenderAddress              0\n",
      "ServicingLenderCity                 0\n",
      "ServicingLenderState                0\n",
      "ServicingLenderZip                  0\n",
      "RuralUrbanIndicator                 0\n",
      "HubzoneIndicator                    0\n",
      "LMIIndicator                        0\n",
      "BusinessAgeDescription              1\n",
      "ProjectCity                        13\n",
      "ProjectCountyName                  57\n",
      "ProjectState                        9\n",
      "ProjectZip                         14\n",
      "CD                                 46\n",
      "JobsReported                        1\n",
      "NAICSCode                        6632\n",
      "Race                                0\n",
      "Ethnicity                           0\n",
      "UTILITIES_PROCEED              629071\n",
      "PAYROLL_PROCEED                  1824\n",
      "MORTGAGE_INTEREST_PROCEED      922101\n",
      "RENT_PROCEED                   868916\n",
      "REFINANCE_EIDL_PROCEED         945363\n",
      "HEALTH_CARE_PROCEED            910989\n",
      "DEBT_INTEREST_PROCEED          936594\n",
      "BusinessType                      728\n",
      "OriginatingLenderLocationID         0\n",
      "OriginatingLender                   0\n",
      "OriginatingLenderCity               0\n",
      "OriginatingLenderState              0\n",
      "Gender                              0\n",
      "Veteran                             0\n",
      "NonProfit                      910149\n",
      "ForgivenessAmount              207884\n",
      "ForgivenessDate                207884\n",
      "dtype: int64\n"
     ]
    }
   ],
   "source": [
    "pd.set_option('display.max_columns', None)\n",
    "print(ppp_df_21.isnull().sum())"
   ]
  },
  {
   "cell_type": "code",
   "execution_count": 13,
   "metadata": {},
   "outputs": [
    {
     "name": "stdout",
     "output_type": "stream",
     "text": [
      "LoanNumber                          0\n",
      "DateApproved                        0\n",
      "SBAOfficeCode                       0\n",
      "ProcessingMethod                    0\n",
      "BorrowerName                        4\n",
      "BorrowerAddress                    14\n",
      "BorrowerCity                       12\n",
      "BorrowerState                      13\n",
      "BorrowerZip                        13\n",
      "LoanStatusDate                  16825\n",
      "LoanStatus                          0\n",
      "Term                                0\n",
      "SBAGuarantyPercentage               0\n",
      "InitialApprovalAmount               0\n",
      "CurrentApprovalAmount               0\n",
      "UndisbursedAmount                  46\n",
      "FranchiseName                  930147\n",
      "ServicingLenderLocationID           0\n",
      "ServicingLenderName                 0\n",
      "ServicingLenderAddress              0\n",
      "ServicingLenderCity                 0\n",
      "ServicingLenderState                0\n",
      "ServicingLenderZip                  0\n",
      "RuralUrbanIndicator                 0\n",
      "HubzoneIndicator                    0\n",
      "LMIIndicator                        0\n",
      "BusinessAgeDescription              1\n",
      "ProjectCity                        13\n",
      "ProjectCountyName                  57\n",
      "ProjectState                        9\n",
      "ProjectZip                         14\n",
      "CD                                 46\n",
      "JobsReported                        1\n",
      "NAICSCode                        6628\n",
      "Race                                0\n",
      "Ethnicity                           0\n",
      "UTILITIES_PROCEED              627203\n",
      "PAYROLL_PROCEED                  1827\n",
      "MORTGAGE_INTEREST_PROCEED      920028\n",
      "RENT_PROCEED                   866328\n",
      "REFINANCE_EIDL_PROCEED         942704\n",
      "HEALTH_CARE_PROCEED            908126\n",
      "DEBT_INTEREST_PROCEED          933856\n",
      "BusinessType                      720\n",
      "OriginatingLenderLocationID         0\n",
      "OriginatingLender                   0\n",
      "OriginatingLenderCity               0\n",
      "OriginatingLenderState              0\n",
      "Gender                              0\n",
      "Veteran                             0\n",
      "NonProfit                      906202\n",
      "ForgivenessAmount               26515\n",
      "ForgivenessDate                 26515\n",
      "dtype: int64\n"
     ]
    }
   ],
   "source": [
    "print(ppp_df_23.isnull().sum())"
   ]
  },
  {
   "cell_type": "code",
   "execution_count": 14,
   "metadata": {},
   "outputs": [
    {
     "name": "stdout",
     "output_type": "stream",
     "text": [
      "LoanNumber                       int64\n",
      "DateApproved                    object\n",
      "SBAOfficeCode                    int64\n",
      "ProcessingMethod                object\n",
      "BorrowerName                    object\n",
      "BorrowerAddress                 object\n",
      "BorrowerCity                    object\n",
      "BorrowerState                   object\n",
      "BorrowerZip                    float64\n",
      "LoanStatusDate                  object\n",
      "LoanStatus                      object\n",
      "Term                             int64\n",
      "SBAGuarantyPercentage            int64\n",
      "InitialApprovalAmount          float64\n",
      "CurrentApprovalAmount          float64\n",
      "UndisbursedAmount              float64\n",
      "FranchiseName                   object\n",
      "ServicingLenderLocationID        int64\n",
      "ServicingLenderName             object\n",
      "ServicingLenderAddress          object\n",
      "ServicingLenderCity             object\n",
      "ServicingLenderState            object\n",
      "ServicingLenderZip              object\n",
      "RuralUrbanIndicator             object\n",
      "HubzoneIndicator                object\n",
      "LMIIndicator                    object\n",
      "BusinessAgeDescription          object\n",
      "ProjectCity                     object\n",
      "ProjectCountyName               object\n",
      "ProjectState                    object\n",
      "ProjectZip                      object\n",
      "CD                              object\n",
      "JobsReported                   float64\n",
      "NAICSCode                      float64\n",
      "Race                            object\n",
      "Ethnicity                       object\n",
      "UTILITIES_PROCEED              float64\n",
      "PAYROLL_PROCEED                float64\n",
      "MORTGAGE_INTEREST_PROCEED      float64\n",
      "RENT_PROCEED                   float64\n",
      "REFINANCE_EIDL_PROCEED         float64\n",
      "HEALTH_CARE_PROCEED            float64\n",
      "DEBT_INTEREST_PROCEED          float64\n",
      "BusinessType                    object\n",
      "OriginatingLenderLocationID      int64\n",
      "OriginatingLender               object\n",
      "OriginatingLenderCity           object\n",
      "OriginatingLenderState          object\n",
      "Gender                          object\n",
      "Veteran                         object\n",
      "NonProfit                       object\n",
      "ForgivenessAmount              float64\n",
      "ForgivenessDate                 object\n",
      "dtype: object\n"
     ]
    }
   ],
   "source": [
    "print(ppp_df_21.dtypes)"
   ]
  },
  {
   "cell_type": "code",
   "execution_count": 15,
   "metadata": {},
   "outputs": [
    {
     "name": "stdout",
     "output_type": "stream",
     "text": [
      "LoanNumber                       int64\n",
      "DateApproved                    object\n",
      "SBAOfficeCode                    int64\n",
      "ProcessingMethod                object\n",
      "BorrowerName                    object\n",
      "BorrowerAddress                 object\n",
      "BorrowerCity                    object\n",
      "BorrowerState                   object\n",
      "BorrowerZip                     object\n",
      "LoanStatusDate                  object\n",
      "LoanStatus                      object\n",
      "Term                             int64\n",
      "SBAGuarantyPercentage            int64\n",
      "InitialApprovalAmount          float64\n",
      "CurrentApprovalAmount          float64\n",
      "UndisbursedAmount              float64\n",
      "FranchiseName                   object\n",
      "ServicingLenderLocationID        int64\n",
      "ServicingLenderName             object\n",
      "ServicingLenderAddress          object\n",
      "ServicingLenderCity             object\n",
      "ServicingLenderState            object\n",
      "ServicingLenderZip              object\n",
      "RuralUrbanIndicator             object\n",
      "HubzoneIndicator                object\n",
      "LMIIndicator                    object\n",
      "BusinessAgeDescription          object\n",
      "ProjectCity                     object\n",
      "ProjectCountyName               object\n",
      "ProjectState                    object\n",
      "ProjectZip                      object\n",
      "CD                              object\n",
      "JobsReported                   float64\n",
      "NAICSCode                      float64\n",
      "Race                            object\n",
      "Ethnicity                       object\n",
      "UTILITIES_PROCEED              float64\n",
      "PAYROLL_PROCEED                float64\n",
      "MORTGAGE_INTEREST_PROCEED      float64\n",
      "RENT_PROCEED                   float64\n",
      "REFINANCE_EIDL_PROCEED         float64\n",
      "HEALTH_CARE_PROCEED            float64\n",
      "DEBT_INTEREST_PROCEED          float64\n",
      "BusinessType                    object\n",
      "OriginatingLenderLocationID      int64\n",
      "OriginatingLender               object\n",
      "OriginatingLenderCity           object\n",
      "OriginatingLenderState          object\n",
      "Gender                          object\n",
      "Veteran                         object\n",
      "NonProfit                       object\n",
      "ForgivenessAmount              float64\n",
      "ForgivenessDate                 object\n",
      "dtype: object\n"
     ]
    }
   ],
   "source": [
    "print(ppp_df_23.dtypes)\n",
    "pd.reset_option('all', silent=True)"
   ]
  },
  {
   "cell_type": "code",
   "execution_count": 17,
   "metadata": {},
   "outputs": [
    {
     "name": "stdout",
     "output_type": "stream",
     "text": [
      "CA    130622\n",
      "TX     76185\n",
      "NY     74113\n",
      "FL     60041\n",
      "IL     40815\n",
      "PA     38537\n",
      "OH     32650\n",
      "NJ     32533\n",
      "MI     29809\n",
      "MA     27471\n",
      "GA     25832\n",
      "WA     23755\n",
      "VA     23266\n",
      "NC     22826\n",
      "CO     19742\n",
      "MN     19730\n",
      "MD     18979\n",
      "WI     17354\n",
      "IN     16601\n",
      "MO     16350\n",
      "TN     15869\n",
      "AZ     15796\n",
      "LA     13668\n",
      "OR     13456\n",
      "CT     12893\n",
      "AL     10912\n",
      "SC     10743\n",
      "OK      9997\n",
      "UT      9295\n",
      "KY      9179\n",
      "IA      8295\n",
      "NV      8262\n",
      "KS      8202\n",
      "AR      5857\n",
      "NE      5804\n",
      "MS      5502\n",
      "NH      5078\n",
      "HI      4980\n",
      "NM      4485\n",
      "ID      4416\n",
      "DC      4399\n",
      "ME      4185\n",
      "RI      3792\n",
      "WV      3365\n",
      "ND      3222\n",
      "MT      3144\n",
      "DE      2996\n",
      "PR      2952\n",
      "SD      2695\n",
      "AK      2663\n",
      "VT      2270\n",
      "WY      2139\n",
      "GU       443\n",
      "VI       290\n",
      "MP        82\n",
      "AS        20\n",
      "Name: BorrowerState, dtype: int64\n"
     ]
    }
   ],
   "source": [
    "state_counts21 = ppp_df_21[\"BorrowerState\"].value_counts()\n",
    "print(state_counts21)"
   ]
  },
  {
   "cell_type": "code",
   "execution_count": 18,
   "metadata": {},
   "outputs": [
    {
     "name": "stdout",
     "output_type": "stream",
     "text": [
      "CA    129085\n",
      "TX     76061\n",
      "NY     73819\n",
      "FL     60002\n",
      "IL     40763\n",
      "PA     38500\n",
      "OH     32639\n",
      "NJ     32515\n",
      "MI     29791\n",
      "MA     27179\n",
      "GA     25787\n",
      "WA     23619\n",
      "VA     23224\n",
      "NC     22796\n",
      "MN     19720\n",
      "CO     19669\n",
      "MD     18955\n",
      "WI     17346\n",
      "IN     16594\n",
      "MO     16339\n",
      "TN     15864\n",
      "AZ     15757\n",
      "LA     13669\n",
      "OR     13403\n",
      "CT     12882\n",
      "AL     10912\n",
      "SC     10739\n",
      "OK      9995\n",
      "UT      9258\n",
      "KY      9178\n",
      "IA      8295\n",
      "NV      8254\n",
      "KS      8201\n",
      "AR      5857\n",
      "NE      5804\n",
      "MS      5504\n",
      "NH      5069\n",
      "HI      4979\n",
      "NM      4482\n",
      "ID      4415\n",
      "DC      4383\n",
      "ME      4185\n",
      "RI      3786\n",
      "WV      3365\n",
      "ND      3222\n",
      "MT      3142\n",
      "DE      2990\n",
      "PR      2952\n",
      "SD      2695\n",
      "AK      2662\n",
      "VT      2265\n",
      "WY      2137\n",
      "GU       443\n",
      "VI       290\n",
      "MP        82\n",
      "AS        20\n",
      "Name: BorrowerState, dtype: int64\n"
     ]
    }
   ],
   "source": [
    "state_counts23 = ppp_df_23[\"BorrowerState\"].value_counts()\n",
    "print(state_counts23)"
   ]
  },
  {
   "attachments": {},
   "cell_type": "markdown",
   "metadata": {},
   "source": [
    "<h5>Post Label Process Output File"
   ]
  },
  {
   "cell_type": "code",
   "execution_count": 30,
   "metadata": {},
   "outputs": [],
   "source": [
    "csvpath_21_post = \"../data/ppp_pipe.csv\"\n",
    "csvpath_23_post = \"../data/ppp_pipe23.csv\""
   ]
  },
  {
   "cell_type": "code",
   "execution_count": 31,
   "metadata": {},
   "outputs": [
    {
     "name": "stdout",
     "output_type": "stream",
     "text": [
      "476.6720838546753\n",
      "480.8952684402466\n"
     ]
    }
   ],
   "source": [
    "size21_post= os.path.getsize(csvpath_21_post)/1024**2\n",
    "size23_post= os.path.getsize(csvpath_23_post)/1024**2\n",
    "print(size21_post)\n",
    "print(size23_post)"
   ]
  },
  {
   "cell_type": "code",
   "execution_count": 32,
   "metadata": {},
   "outputs": [],
   "source": [
    "ppp_df_21_post = pd.read_csv(csvpath_21_post, index_col=0)\n",
    "ppp_df_23_post = pd.read_csv(csvpath_23_post, index_col=0)"
   ]
  },
  {
   "cell_type": "code",
   "execution_count": 33,
   "metadata": {},
   "outputs": [
    {
     "name": "stdout",
     "output_type": "stream",
     "text": [
      "968557\n",
      "965552\n"
     ]
    }
   ],
   "source": [
    "print(ppp_df_21_post.shape[0])\n",
    "print(ppp_df_23_post.shape[0])"
   ]
  },
  {
   "cell_type": "code",
   "execution_count": 34,
   "metadata": {},
   "outputs": [
    {
     "name": "stdout",
     "output_type": "stream",
     "text": [
      "Index(['LoanNumber', 'DateApprovedTS', 'SBAOfficeCode', 'SBAOfficeLabel',\n",
      "       'ProcessingMethod', 'BorrowerName', 'BorrowerState', 'LoanStatusDate',\n",
      "       'LoanStatus', 'Term', 'CurrentApprovalAmount', 'UndisbursedAmount',\n",
      "       'FranchiseName', 'ServicingLenderLocationID', 'ServicingLenderName',\n",
      "       'RuralUrbanIndicator', 'HubzoneIndicator', 'LMIIndicator', 'CD',\n",
      "       'JobsReported', 'OriginatingLenderLocationID', 'OriginatingLender',\n",
      "       'OriginatingLenderCity', 'OriginatingLenderState', 'BusinessType',\n",
      "       'BusinessAgeDescription', 'NonProfit', 'ForgivenessAmount',\n",
      "       'ForgivenessDateTS', 'Estimated_LenderPercent',\n",
      "       'Estimated_LenderProfit', 'NA', '4DigitNAICS', 'NAICSCode', 'Industry',\n",
      "       'IndustrySubsector', 'TRIIndustrySector', 'Loan_Range', 'job_Range',\n",
      "       'LongName', 'full_add'],\n",
      "      dtype='object')\n",
      "Index(['LoanNumber', 'DateApprovedTS', 'SBAOfficeCode', 'SBAOfficeLabel',\n",
      "       'ProcessingMethod', 'BorrowerName', 'BorrowerState', 'LoanStatusDate',\n",
      "       'LoanStatus', 'Term', 'CurrentApprovalAmount', 'UndisbursedAmount',\n",
      "       'FranchiseName', 'ServicingLenderLocationID', 'ServicingLenderName',\n",
      "       'RuralUrbanIndicator', 'HubzoneIndicator', 'LMIIndicator', 'CD',\n",
      "       'JobsReported', 'OriginatingLenderLocationID', 'OriginatingLender',\n",
      "       'OriginatingLenderCity', 'OriginatingLenderState', 'BusinessType',\n",
      "       'BusinessAgeDescription', 'NonProfit', 'ForgivenessAmount',\n",
      "       'ForgivenessDateTS', 'Estimated_LenderPercent',\n",
      "       'Estimated_LenderProfit', 'NA', '4DigitNAICS', 'NAICSCode', 'Industry',\n",
      "       'IndustrySubsector', 'TRIIndustrySector', 'Loan_Range', 'job_Range',\n",
      "       'LongName', 'full_add'],\n",
      "      dtype='object')\n",
      "41\n",
      "41\n"
     ]
    }
   ],
   "source": [
    "print(ppp_df_21_post.columns)\n",
    "print(ppp_df_23_post.columns)\n",
    "print(len(ppp_df_21_post.columns))\n",
    "print(len(ppp_df_23_post.columns))"
   ]
  },
  {
   "cell_type": "code",
   "execution_count": 35,
   "metadata": {},
   "outputs": [
    {
     "name": "stdout",
     "output_type": "stream",
     "text": [
      "LoanNumber                          0\n",
      "DateApprovedTS                      0\n",
      "SBAOfficeCode                       0\n",
      "SBAOfficeLabel                      0\n",
      "ProcessingMethod                    0\n",
      "BorrowerName                        4\n",
      "BorrowerState                       0\n",
      "LoanStatusDate                 281932\n",
      "LoanStatus                          0\n",
      "Term                                0\n",
      "CurrentApprovalAmount               0\n",
      "UndisbursedAmount                 219\n",
      "FranchiseName                  933151\n",
      "ServicingLenderLocationID           0\n",
      "ServicingLenderName                 0\n",
      "RuralUrbanIndicator                 0\n",
      "HubzoneIndicator                    0\n",
      "LMIIndicator                        0\n",
      "CD                                 46\n",
      "JobsReported                        1\n",
      "OriginatingLenderLocationID         0\n",
      "OriginatingLender                   0\n",
      "OriginatingLenderCity               0\n",
      "OriginatingLenderState              0\n",
      "BusinessType                        0\n",
      "BusinessAgeDescription              0\n",
      "NonProfit                           0\n",
      "ForgivenessAmount              207884\n",
      "ForgivenessDateTS                   0\n",
      "Estimated_LenderPercent             0\n",
      "Estimated_LenderProfit              0\n",
      "NA                                  0\n",
      "4DigitNAICS                         0\n",
      "NAICSCode                           0\n",
      "Industry                            0\n",
      "IndustrySubsector                   0\n",
      "TRIIndustrySector               12182\n",
      "Loan_Range                          0\n",
      "job_Range                           0\n",
      "LongName                            0\n",
      "full_add                            6\n",
      "dtype: int64\n"
     ]
    }
   ],
   "source": [
    "pd.set_option('display.max_columns', None)\n",
    "print(ppp_df_21_post.isnull().sum())"
   ]
  },
  {
   "cell_type": "code",
   "execution_count": 36,
   "metadata": {},
   "outputs": [
    {
     "name": "stdout",
     "output_type": "stream",
     "text": [
      "LoanNumber                          0\n",
      "DateApprovedTS                      0\n",
      "SBAOfficeCode                       0\n",
      "SBAOfficeLabel                      0\n",
      "ProcessingMethod                    0\n",
      "BorrowerName                        4\n",
      "BorrowerState                      13\n",
      "LoanStatusDate                  16825\n",
      "LoanStatus                          0\n",
      "Term                                0\n",
      "CurrentApprovalAmount               0\n",
      "UndisbursedAmount                  46\n",
      "FranchiseName                  930147\n",
      "ServicingLenderLocationID           0\n",
      "ServicingLenderName                 0\n",
      "RuralUrbanIndicator                 0\n",
      "HubzoneIndicator                    0\n",
      "LMIIndicator                        0\n",
      "CD                                 46\n",
      "JobsReported                        1\n",
      "OriginatingLenderLocationID         0\n",
      "OriginatingLender                   0\n",
      "OriginatingLenderCity               0\n",
      "OriginatingLenderState              0\n",
      "BusinessType                        0\n",
      "BusinessAgeDescription              0\n",
      "NonProfit                           0\n",
      "ForgivenessAmount               26515\n",
      "ForgivenessDateTS                   0\n",
      "Estimated_LenderPercent             0\n",
      "Estimated_LenderProfit              0\n",
      "NA                                  0\n",
      "4DigitNAICS                         0\n",
      "NAICSCode                           0\n",
      "Industry                            0\n",
      "IndustrySubsector                   0\n",
      "TRIIndustrySector               12162\n",
      "Loan_Range                          0\n",
      "job_Range                           0\n",
      "LongName                            0\n",
      "full_add                           19\n",
      "dtype: int64\n"
     ]
    }
   ],
   "source": [
    "print(ppp_df_23_post.isnull().sum())"
   ]
  },
  {
   "cell_type": "code",
   "execution_count": 37,
   "metadata": {},
   "outputs": [
    {
     "name": "stdout",
     "output_type": "stream",
     "text": [
      "LoanNumber                       int64\n",
      "DateApprovedTS                   int64\n",
      "SBAOfficeCode                    int64\n",
      "SBAOfficeLabel                  object\n",
      "ProcessingMethod                object\n",
      "BorrowerName                    object\n",
      "BorrowerState                   object\n",
      "LoanStatusDate                  object\n",
      "LoanStatus                      object\n",
      "Term                             int64\n",
      "CurrentApprovalAmount          float64\n",
      "UndisbursedAmount              float64\n",
      "FranchiseName                   object\n",
      "ServicingLenderLocationID        int64\n",
      "ServicingLenderName             object\n",
      "RuralUrbanIndicator             object\n",
      "HubzoneIndicator                object\n",
      "LMIIndicator                    object\n",
      "CD                              object\n",
      "JobsReported                   float64\n",
      "OriginatingLenderLocationID      int64\n",
      "OriginatingLender               object\n",
      "OriginatingLenderCity           object\n",
      "OriginatingLenderState          object\n",
      "BusinessType                    object\n",
      "BusinessAgeDescription          object\n",
      "NonProfit                       object\n",
      "ForgivenessAmount              float64\n",
      "ForgivenessDateTS               object\n",
      "Estimated_LenderPercent         object\n",
      "Estimated_LenderProfit         float64\n",
      "NA                               int64\n",
      "4DigitNAICS                      int64\n",
      "NAICSCode                        int64\n",
      "Industry                        object\n",
      "IndustrySubsector               object\n",
      "TRIIndustrySector               object\n",
      "Loan_Range                      object\n",
      "job_Range                       object\n",
      "LongName                        object\n",
      "full_add                        object\n",
      "dtype: object\n"
     ]
    }
   ],
   "source": [
    "print(ppp_df_21_post.dtypes)"
   ]
  },
  {
   "cell_type": "code",
   "execution_count": 38,
   "metadata": {},
   "outputs": [
    {
     "name": "stdout",
     "output_type": "stream",
     "text": [
      "LoanNumber                       int64\n",
      "DateApprovedTS                   int64\n",
      "SBAOfficeCode                    int64\n",
      "SBAOfficeLabel                  object\n",
      "ProcessingMethod                object\n",
      "BorrowerName                    object\n",
      "BorrowerState                   object\n",
      "LoanStatusDate                  object\n",
      "LoanStatus                      object\n",
      "Term                             int64\n",
      "CurrentApprovalAmount          float64\n",
      "UndisbursedAmount              float64\n",
      "FranchiseName                   object\n",
      "ServicingLenderLocationID        int64\n",
      "ServicingLenderName             object\n",
      "RuralUrbanIndicator             object\n",
      "HubzoneIndicator                object\n",
      "LMIIndicator                    object\n",
      "CD                              object\n",
      "JobsReported                   float64\n",
      "OriginatingLenderLocationID      int64\n",
      "OriginatingLender               object\n",
      "OriginatingLenderCity           object\n",
      "OriginatingLenderState          object\n",
      "BusinessType                    object\n",
      "BusinessAgeDescription          object\n",
      "NonProfit                       object\n",
      "ForgivenessAmount              float64\n",
      "ForgivenessDateTS               object\n",
      "Estimated_LenderPercent         object\n",
      "Estimated_LenderProfit         float64\n",
      "NA                               int64\n",
      "4DigitNAICS                      int64\n",
      "NAICSCode                        int64\n",
      "Industry                        object\n",
      "IndustrySubsector               object\n",
      "TRIIndustrySector               object\n",
      "Loan_Range                      object\n",
      "job_Range                       object\n",
      "LongName                        object\n",
      "full_add                        object\n",
      "dtype: object\n"
     ]
    }
   ],
   "source": [
    "print(ppp_df_23_post.dtypes)\n",
    "pd.reset_option('all', silent=True) "
   ]
  },
  {
   "attachments": {},
   "cell_type": "markdown",
   "metadata": {},
   "source": [
    "<h4>Main Hashing PipeLine Check"
   ]
  },
  {
   "cell_type": "code",
   "execution_count": 43,
   "metadata": {},
   "outputs": [],
   "source": [
    "csvpath_21_hash = \"../data/ppp_hash.csv\"\n",
    "csvpath_23_hash = \"../data/ppp_hash23.csv\"\n",
    "csvpath_21_hashSort = \"../data/ppp_hashSort.csv\"\n",
    "csvpath_23_hashSort = \"../data/ppp_hashSort23.csv\""
   ]
  },
  {
   "cell_type": "code",
   "execution_count": 44,
   "metadata": {},
   "outputs": [
    {
     "name": "stdout",
     "output_type": "stream",
     "text": [
      "146.95548343658447\n",
      "146.49556636810303\n",
      "108.19139385223389\n",
      "107.85181713104248\n"
     ]
    }
   ],
   "source": [
    "size21_hash= os.path.getsize(csvpath_21_hash)/1024**2\n",
    "size23_hash= os.path.getsize(csvpath_23_hash)/1024**2\n",
    "size21_hashSort= os.path.getsize(csvpath_21_hashSort)/1024**2\n",
    "size23_hashSort= os.path.getsize(csvpath_23_hashSort)/1024**2\n",
    "print(size21_hash)\n",
    "print(size23_hash)\n",
    "print(size21_hashSort)\n",
    "print(size23_hashSort)"
   ]
  },
  {
   "cell_type": "code",
   "execution_count": 50,
   "metadata": {},
   "outputs": [],
   "source": [
    "ppp_df_21_hash = pd.read_csv(csvpath_21_hash,index_col=0) \n",
    "ppp_df_23_hash = pd.read_csv(csvpath_23_hash,index_col=0) \n",
    "ppp_df_21_hashSort = pd.read_csv(csvpath_21_hashSort,index_col=0) \n",
    "ppp_df_23_hashSort = pd.read_csv(csvpath_23_hashSort,index_col=0) "
   ]
  },
  {
   "cell_type": "code",
   "execution_count": 51,
   "metadata": {},
   "outputs": [
    {
     "name": "stdout",
     "output_type": "stream",
     "text": [
      "968557\n",
      "965552\n",
      "968557\n",
      "965552\n"
     ]
    }
   ],
   "source": [
    "print(ppp_df_21_hash.shape[0])\n",
    "print(ppp_df_23_hash.shape[0])\n",
    "print(ppp_df_21_hashSort.shape[0])\n",
    "print(ppp_df_23_hashSort.shape[0])"
   ]
  },
  {
   "cell_type": "code",
   "execution_count": 52,
   "metadata": {},
   "outputs": [
    {
     "name": "stdout",
     "output_type": "stream",
     "text": [
      "Index(['LoanNumber', 'INDSScode', 'INDcode', 'SScode', 'LRcode', 'JRcode',\n",
      "       'BTcode', 'BAcode', 'PMcode', 'HASHcodePM', 'Industry',\n",
      "       'IndustrySubsector'],\n",
      "      dtype='object')\n",
      "12\n",
      "Index(['LoanNumber', 'INDSScode', 'INDcode', 'SScode', 'LRcode', 'JRcode',\n",
      "       'BTcode', 'BAcode', 'PMcode', 'HASHcodePM', 'Industry',\n",
      "       'IndustrySubsector'],\n",
      "      dtype='object')\n",
      "12\n",
      "Index(['LoanNumber', 'HASHcodePM', 'Industry', 'IndustrySubsector'], dtype='object')\n",
      "4\n",
      "Index(['LoanNumber', 'HASHcodePM', 'Industry', 'IndustrySubsector'], dtype='object')\n",
      "4\n"
     ]
    }
   ],
   "source": [
    "print(ppp_df_21_hash.columns)\n",
    "print(len(ppp_df_21_hash.columns))\n",
    "\n",
    "print(ppp_df_23_hash.columns)\n",
    "print(len(ppp_df_23_hash.columns))\n",
    "\n",
    "print(ppp_df_21_hashSort.columns)\n",
    "print(len(ppp_df_21_hashSort.columns))\n",
    "\n",
    "print(ppp_df_23_hashSort.columns)\n",
    "print(len(ppp_df_23_hashSort.columns))"
   ]
  },
  {
   "cell_type": "code",
   "execution_count": null,
   "metadata": {},
   "outputs": [],
   "source": [
    "print(ppp_df_21_hash.isnull().sum())\n",
    "print(ppp_df_23_hash.isnull().sum())\n",
    "print(ppp_df_21_hashSort.isnull().sum())\n",
    "print(ppp_df_23_hashSort.isnull().sum())"
   ]
  },
  {
   "cell_type": "code",
   "execution_count": 55,
   "metadata": {},
   "outputs": [
    {
     "name": "stdout",
     "output_type": "stream",
     "text": [
      "LoanNumber            int64\n",
      "INDSScode            object\n",
      "INDcode              object\n",
      "SScode               object\n",
      "LRcode               object\n",
      "JRcode               object\n",
      "BTcode               object\n",
      "BAcode               object\n",
      "PMcode               object\n",
      "HASHcodePM           object\n",
      "Industry             object\n",
      "IndustrySubsector    object\n",
      "dtype: object\n",
      "LoanNumber            int64\n",
      "INDSScode            object\n",
      "INDcode              object\n",
      "SScode               object\n",
      "LRcode               object\n",
      "JRcode               object\n",
      "BTcode               object\n",
      "BAcode               object\n",
      "PMcode               object\n",
      "HASHcodePM           object\n",
      "Industry             object\n",
      "IndustrySubsector    object\n",
      "dtype: object\n",
      "LoanNumber            int64\n",
      "HASHcodePM           object\n",
      "Industry             object\n",
      "IndustrySubsector    object\n",
      "dtype: object\n",
      "LoanNumber            int64\n",
      "HASHcodePM           object\n",
      "Industry             object\n",
      "IndustrySubsector    object\n",
      "dtype: object\n"
     ]
    }
   ],
   "source": [
    "pd.set_option('display.max_rows', 70)\n",
    "print(ppp_df_21_hash.dtypes)\n",
    "print(ppp_df_23_hash.dtypes)\n",
    "print(ppp_df_21_hashSort.dtypes)\n",
    "print(ppp_df_23_hashSort.dtypes)"
   ]
  },
  {
   "attachments": {},
   "cell_type": "markdown",
   "metadata": {},
   "source": [
    "<h4>Main Concat PipeLine Check"
   ]
  },
  {
   "cell_type": "code",
   "execution_count": 100,
   "metadata": {},
   "outputs": [],
   "source": [
    "csvpath_21_con = (\"../data/pipe_hpgf.csv\")\n",
    "csvpath_23_con = (\"../data/pipe_hpgf23.csv\")"
   ]
  },
  {
   "cell_type": "code",
   "execution_count": 101,
   "metadata": {},
   "outputs": [
    {
     "name": "stdout",
     "output_type": "stream",
     "text": [
      "481.99748611450195\n",
      "492.55011653900146\n"
     ]
    }
   ],
   "source": [
    "size21_con= os.path.getsize(csvpath_21_con)/1024**2\n",
    "size23_con= os.path.getsize(csvpath_23_con)/1024**2\n",
    "print(size21_con)\n",
    "print(size23_con)"
   ]
  },
  {
   "cell_type": "code",
   "execution_count": 102,
   "metadata": {},
   "outputs": [],
   "source": [
    "ppp_df_21_con = pd.read_csv(csvpath_21_con,index_col=0)\n",
    "ppp_df_23_con = pd.read_csv(csvpath_23_con)\n",
    "ppp_df_23_con = ppp_df_23_con.loc[:, ~ppp_df_23_con.columns.str.contains('^Unnamed')] "
   ]
  },
  {
   "cell_type": "code",
   "execution_count": 103,
   "metadata": {},
   "outputs": [
    {
     "name": "stdout",
     "output_type": "stream",
     "text": [
      "968557\n",
      "965552\n"
     ]
    }
   ],
   "source": [
    "print(ppp_df_21_con.shape[0])\n",
    "print(ppp_df_23_con.shape[0])"
   ]
  },
  {
   "cell_type": "code",
   "execution_count": 104,
   "metadata": {},
   "outputs": [
    {
     "name": "stdout",
     "output_type": "stream",
     "text": [
      "Index(['LoanNumber', 'HASHcodePM', 'Industry', 'IndustrySubsector',\n",
      "       'DateApprovedTS', 'SBAOfficeCode', 'SBAOfficeLabel', 'ProcessingMethod',\n",
      "       'BorrowerName', 'BorrowerState', 'LoanStatusDate', 'LoanStatus', 'Term',\n",
      "       'CurrentApprovalAmount', 'UndisbursedAmount', 'FranchiseName',\n",
      "       'ServicingLenderLocationID', 'ServicingLenderName', 'CD',\n",
      "       'JobsReported', 'OriginatingLenderLocationID', 'OriginatingLender',\n",
      "       'OriginatingLenderCity', 'OriginatingLenderState', 'BusinessType',\n",
      "       'BusinessAgeDescription', 'NonProfit', 'ForgivenessAmount',\n",
      "       'ForgivenessDateTS', 'Estimated_LenderPercent',\n",
      "       'Estimated_LenderProfit', 'LongName', 'full_add', 'Lat', 'Long',\n",
      "       'FIPS_z'],\n",
      "      dtype='object')\n",
      "36\n",
      "Index(['LoanNumber', 'DateApprovedTS', 'SBAOfficeCode', 'SBAOfficeLabel',\n",
      "       'ProcessingMethod', 'BorrowerName', 'BorrowerState', 'LoanStatusDate',\n",
      "       'LoanStatus', 'Term', 'CurrentApprovalAmount', 'UndisbursedAmount',\n",
      "       'FranchiseName', 'ServicingLenderLocationID', 'ServicingLenderName',\n",
      "       'CD', 'JobsReported', 'OriginatingLenderLocationID',\n",
      "       'OriginatingLender', 'OriginatingLenderCity', 'OriginatingLenderState',\n",
      "       'BusinessType', 'BusinessAgeDescription', 'NonProfit',\n",
      "       'ForgivenessAmount', 'ForgivenessDateTS', 'Estimated_LenderPercent',\n",
      "       'Estimated_LenderProfit', 'LongName', 'full_add', 'HASHcodePM',\n",
      "       'Industry', 'IndustrySubsector', 'Lat', 'Long', 'FIPS_z'],\n",
      "      dtype='object')\n",
      "36\n"
     ]
    }
   ],
   "source": [
    "print(ppp_df_21_con.columns)\n",
    "print(len(ppp_df_21_con.columns))\n",
    "print(ppp_df_23_con.columns)\n",
    "print(len(ppp_df_23_con.columns))"
   ]
  },
  {
   "cell_type": "code",
   "execution_count": 105,
   "metadata": {},
   "outputs": [
    {
     "name": "stdout",
     "output_type": "stream",
     "text": [
      "LoanNumber                          0\n",
      "HASHcodePM                          0\n",
      "Industry                            0\n",
      "IndustrySubsector                   0\n",
      "DateApprovedTS                      0\n",
      "SBAOfficeCode                       0\n",
      "SBAOfficeLabel                      0\n",
      "ProcessingMethod                    0\n",
      "BorrowerName                        4\n",
      "BorrowerState                       0\n",
      "LoanStatusDate                 281932\n",
      "LoanStatus                          0\n",
      "Term                                0\n",
      "CurrentApprovalAmount               0\n",
      "UndisbursedAmount                 219\n",
      "FranchiseName                  933151\n",
      "ServicingLenderLocationID           0\n",
      "ServicingLenderName                 0\n",
      "CD                                 46\n",
      "JobsReported                        1\n",
      "OriginatingLenderLocationID         0\n",
      "OriginatingLender                   0\n",
      "OriginatingLenderCity               0\n",
      "OriginatingLenderState              0\n",
      "BusinessType                        0\n",
      "BusinessAgeDescription              0\n",
      "NonProfit                           0\n",
      "ForgivenessAmount              207884\n",
      "ForgivenessDateTS                   0\n",
      "Estimated_LenderPercent             0\n",
      "Estimated_LenderProfit              0\n",
      "LongName                            0\n",
      "full_add                            6\n",
      "Lat                               139\n",
      "Long                              139\n",
      "FIPS_z                            926\n",
      "dtype: int64\n"
     ]
    }
   ],
   "source": [
    "print(ppp_df_21_con.isnull().sum())"
   ]
  },
  {
   "cell_type": "code",
   "execution_count": 106,
   "metadata": {},
   "outputs": [
    {
     "name": "stdout",
     "output_type": "stream",
     "text": [
      "LoanNumber                          0\n",
      "DateApprovedTS                      0\n",
      "SBAOfficeCode                       0\n",
      "SBAOfficeLabel                      0\n",
      "ProcessingMethod                    0\n",
      "BorrowerName                        4\n",
      "BorrowerState                      13\n",
      "LoanStatusDate                  16825\n",
      "LoanStatus                          0\n",
      "Term                                0\n",
      "CurrentApprovalAmount               0\n",
      "UndisbursedAmount                  46\n",
      "FranchiseName                  930147\n",
      "ServicingLenderLocationID           0\n",
      "ServicingLenderName                 0\n",
      "CD                                 46\n",
      "JobsReported                        1\n",
      "OriginatingLenderLocationID         0\n",
      "OriginatingLender                   0\n",
      "OriginatingLenderCity               0\n",
      "OriginatingLenderState              0\n",
      "BusinessType                        0\n",
      "BusinessAgeDescription              0\n",
      "NonProfit                           0\n",
      "ForgivenessAmount               26515\n",
      "ForgivenessDateTS                   0\n",
      "Estimated_LenderPercent             0\n",
      "Estimated_LenderProfit              0\n",
      "LongName                            0\n",
      "full_add                            6\n",
      "HASHcodePM                          0\n",
      "Industry                            0\n",
      "IndustrySubsector                   0\n",
      "Lat                               153\n",
      "Long                              153\n",
      "FIPS_z                            940\n",
      "dtype: int64\n"
     ]
    }
   ],
   "source": [
    "print(ppp_df_23_con.isnull().sum())"
   ]
  },
  {
   "cell_type": "code",
   "execution_count": 107,
   "metadata": {},
   "outputs": [
    {
     "name": "stdout",
     "output_type": "stream",
     "text": [
      "LoanNumber                       int64\n",
      "HASHcodePM                      object\n",
      "Industry                        object\n",
      "IndustrySubsector               object\n",
      "DateApprovedTS                   int64\n",
      "SBAOfficeCode                    int64\n",
      "SBAOfficeLabel                  object\n",
      "ProcessingMethod                object\n",
      "BorrowerName                    object\n",
      "BorrowerState                   object\n",
      "LoanStatusDate                  object\n",
      "LoanStatus                      object\n",
      "Term                             int64\n",
      "CurrentApprovalAmount          float64\n",
      "UndisbursedAmount              float64\n",
      "FranchiseName                   object\n",
      "ServicingLenderLocationID        int64\n",
      "ServicingLenderName             object\n",
      "CD                              object\n",
      "JobsReported                   float64\n",
      "OriginatingLenderLocationID      int64\n",
      "OriginatingLender               object\n",
      "OriginatingLenderCity           object\n",
      "OriginatingLenderState          object\n",
      "BusinessType                    object\n",
      "BusinessAgeDescription          object\n",
      "NonProfit                       object\n",
      "ForgivenessAmount              float64\n",
      "ForgivenessDateTS               object\n",
      "Estimated_LenderPercent         object\n",
      "Estimated_LenderProfit         float64\n",
      "LongName                        object\n",
      "full_add                        object\n",
      "Lat                            float64\n",
      "Long                           float64\n",
      "FIPS_z                         float64\n",
      "dtype: object\n"
     ]
    }
   ],
   "source": [
    "pd.set_option('display.max_rows', None)\n",
    "print(ppp_df_21_con.dtypes)"
   ]
  },
  {
   "cell_type": "code",
   "execution_count": 108,
   "metadata": {},
   "outputs": [
    {
     "name": "stdout",
     "output_type": "stream",
     "text": [
      "LoanNumber                       int64\n",
      "DateApprovedTS                   int64\n",
      "SBAOfficeCode                    int64\n",
      "SBAOfficeLabel                  object\n",
      "ProcessingMethod                object\n",
      "BorrowerName                    object\n",
      "BorrowerState                   object\n",
      "LoanStatusDate                  object\n",
      "LoanStatus                      object\n",
      "Term                             int64\n",
      "CurrentApprovalAmount          float64\n",
      "UndisbursedAmount              float64\n",
      "FranchiseName                   object\n",
      "ServicingLenderLocationID        int64\n",
      "ServicingLenderName             object\n",
      "CD                              object\n",
      "JobsReported                   float64\n",
      "OriginatingLenderLocationID      int64\n",
      "OriginatingLender               object\n",
      "OriginatingLenderCity           object\n",
      "OriginatingLenderState          object\n",
      "BusinessType                    object\n",
      "BusinessAgeDescription          object\n",
      "NonProfit                       object\n",
      "ForgivenessAmount              float64\n",
      "ForgivenessDateTS               object\n",
      "Estimated_LenderPercent         object\n",
      "Estimated_LenderProfit         float64\n",
      "LongName                        object\n",
      "full_add                        object\n",
      "HASHcodePM                      object\n",
      "Industry                        object\n",
      "IndustrySubsector               object\n",
      "Lat                            float64\n",
      "Long                           float64\n",
      "FIPS_z                         float64\n",
      "dtype: object\n"
     ]
    }
   ],
   "source": [
    "print(ppp_df_23_con.dtypes)"
   ]
  },
  {
   "cell_type": "code",
   "execution_count": 109,
   "metadata": {},
   "outputs": [],
   "source": [
    "pd.reset_option('all', silent=True) #disables display option"
   ]
  },
  {
   "attachments": {},
   "cell_type": "markdown",
   "metadata": {},
   "source": [
    "<h3>Geoprocessing NoteBooks"
   ]
  },
  {
   "attachments": {},
   "cell_type": "markdown",
   "metadata": {},
   "source": [
    "<h4>Geocode Check"
   ]
  },
  {
   "cell_type": "code",
   "execution_count": 110,
   "metadata": {},
   "outputs": [],
   "source": [
    "csvpath_geo = (\"../data/state_data/geo/ppp_geo.csv\")"
   ]
  },
  {
   "cell_type": "code",
   "execution_count": 111,
   "metadata": {},
   "outputs": [
    {
     "name": "stdout",
     "output_type": "stream",
     "text": [
      "79.40129470825195\n"
     ]
    }
   ],
   "source": [
    "size_geo= os.path.getsize(csvpath_geo)/1024**2\n",
    "print(size_geo)"
   ]
  },
  {
   "cell_type": "code",
   "execution_count": 112,
   "metadata": {},
   "outputs": [],
   "source": [
    "ppp_df_geo = pd.read_csv(csvpath_geo, index_col=0)"
   ]
  },
  {
   "cell_type": "code",
   "execution_count": 113,
   "metadata": {},
   "outputs": [
    {
     "name": "stdout",
     "output_type": "stream",
     "text": [
      "968557\n"
     ]
    }
   ],
   "source": [
    "print(ppp_df_geo.shape[0])"
   ]
  },
  {
   "cell_type": "code",
   "execution_count": 114,
   "metadata": {},
   "outputs": [
    {
     "name": "stdout",
     "output_type": "stream",
     "text": [
      "Index(['LoanNumber', 'BorrowerState', 'full_add', 'Lat', 'Long', 'FIPS_z'], dtype='object')\n"
     ]
    }
   ],
   "source": [
    "print(ppp_df_geo.columns)"
   ]
  },
  {
   "cell_type": "code",
   "execution_count": 115,
   "metadata": {},
   "outputs": [
    {
     "name": "stdout",
     "output_type": "stream",
     "text": [
      "LoanNumber            0\n",
      "BorrowerState         0\n",
      "full_add              6\n",
      "Lat                  44\n",
      "Long                 44\n",
      "FIPS_z           876018\n",
      "dtype: int64\n"
     ]
    }
   ],
   "source": [
    "print(ppp_df_geo.isnull().sum()) #note: has less null lat, long than geo_fips"
   ]
  },
  {
   "cell_type": "code",
   "execution_count": 116,
   "metadata": {},
   "outputs": [
    {
     "name": "stdout",
     "output_type": "stream",
     "text": [
      "LoanNumber         int64\n",
      "BorrowerState     object\n",
      "full_add          object\n",
      "Lat              float64\n",
      "Long             float64\n",
      "FIPS_z           float64\n",
      "dtype: object\n"
     ]
    }
   ],
   "source": [
    "print(ppp_df_geo.dtypes)"
   ]
  },
  {
   "attachments": {},
   "cell_type": "markdown",
   "metadata": {},
   "source": [
    "<h4>Selenium FIPS Check"
   ]
  },
  {
   "cell_type": "code",
   "execution_count": 117,
   "metadata": {},
   "outputs": [],
   "source": [
    "csvpath_fips = (\"../data/state_data/geo/ppp_geo_fips.csv\") #merged with 23, does not include geoprocessng for row differences b/w 21/23"
   ]
  },
  {
   "cell_type": "code",
   "execution_count": 118,
   "metadata": {},
   "outputs": [
    {
     "name": "stdout",
     "output_type": "stream",
     "text": [
      "91.65999984741211\n"
     ]
    }
   ],
   "source": [
    "size_fips= os.path.getsize(csvpath_fips)/1024**2\n",
    "print(size_fips)"
   ]
  },
  {
   "cell_type": "code",
   "execution_count": 119,
   "metadata": {},
   "outputs": [],
   "source": [
    "ppp_df_fips = pd.read_csv(csvpath_fips, index_col=0)"
   ]
  },
  {
   "cell_type": "code",
   "execution_count": 120,
   "metadata": {},
   "outputs": [
    {
     "name": "stdout",
     "output_type": "stream",
     "text": [
      "968557\n"
     ]
    }
   ],
   "source": [
    "print(ppp_df_fips.shape[0])"
   ]
  },
  {
   "cell_type": "code",
   "execution_count": 121,
   "metadata": {},
   "outputs": [
    {
     "name": "stdout",
     "output_type": "stream",
     "text": [
      "Index(['LoanNumber', 'BorrowerState', 'full_add', 'Lat', 'Long', 'FIPS_z'], dtype='object')\n"
     ]
    }
   ],
   "source": [
    "print(ppp_df_fips.columns)"
   ]
  },
  {
   "cell_type": "code",
   "execution_count": 122,
   "metadata": {},
   "outputs": [
    {
     "name": "stdout",
     "output_type": "stream",
     "text": [
      "LoanNumber         0\n",
      "BorrowerState      0\n",
      "full_add           6\n",
      "Lat              139\n",
      "Long             139\n",
      "FIPS_z           926\n",
      "dtype: int64\n"
     ]
    }
   ],
   "source": [
    "print(ppp_df_fips.isnull().sum())"
   ]
  },
  {
   "cell_type": "code",
   "execution_count": 123,
   "metadata": {},
   "outputs": [
    {
     "name": "stdout",
     "output_type": "stream",
     "text": [
      "LoanNumber         int64\n",
      "BorrowerState     object\n",
      "full_add          object\n",
      "Lat              float64\n",
      "Long             float64\n",
      "FIPS_z           float64\n",
      "dtype: object\n"
     ]
    }
   ],
   "source": [
    "pd.set_option('display.max_rows', 70)\n",
    "print(ppp_df_fips.dtypes)"
   ]
  },
  {
   "attachments": {},
   "cell_type": "markdown",
   "metadata": {},
   "source": [
    "<h4>State Process Checks"
   ]
  },
  {
   "cell_type": "code",
   "execution_count": null,
   "metadata": {},
   "outputs": [],
   "source": [
    "path21_hpgf =pd.read_csv(\"../data/pipe_hpgf.csv\")\n",
    "path23_hpgf =pd.read_csv(\"../data/pipe_hpgf23.csv\")"
   ]
  },
  {
   "cell_type": "code",
   "execution_count": null,
   "metadata": {},
   "outputs": [],
   "source": [
    "state_counts21 = path21_hpgf[\"BorrowerState\"].value_counts()\n",
    "state_counts23 = path23_hpgf[\"BorrowerState\"].value_counts()\n",
    "print(state_counts21)\n",
    "print(state_counts23)"
   ]
  },
  {
   "cell_type": "code",
   "execution_count": null,
   "metadata": {},
   "outputs": [],
   "source": [
    "null_counts21Add = path21_hpgf.loc[path21_hpgf[\"full_add\"].isnull()]\n",
    "null_counts23Add = path23_hpgf.loc[path23_hpgf[\"full_add\"].isnull()]\n",
    "null_counts21Lat = path21_hpgf.loc[path21_hpgf[\"Lat\"].isnull()]\n",
    "null_counts23Lat = path23_hpgf.loc[path23_hpgf[\"Lat\"].isnull()]\n",
    "null_counts21Long = path21_hpgf.loc[path21_hpgf[\"Long\"].isnull()]\n",
    "null_counts23Long = path23_hpgf.loc[path23_hpgf[\"Long\"].isnull()]\n",
    "null_counts21FIPS = path21_hpgf.loc[path21_hpgf[\"FIPS_z\"].isnull()]\n",
    "null_counts23FIPS = path23_hpgf.loc[path23_hpgf[\"FIPS_z\"].isnull()]\n"
   ]
  },
  {
   "cell_type": "code",
   "execution_count": null,
   "metadata": {},
   "outputs": [],
   "source": [
    "null_counts21Add[\"BorrowerState\"].value_counts()\n",
    "null_counts23Add[\"BorrowerState\"].value_counts()\n",
    "null_counts21Lat[\"BorrowerState\"].value_counts()\n",
    "null_counts23Lat[\"BorrowerState\"].value_counts()\n",
    "null_counts21Long[\"BorrowerState\"].value_counts()\n",
    "null_counts23Long[\"BorrowerState\"].value_counts()\n",
    "null_counts21FIPS[\"BorrowerState\"].value_counts()\n",
    "null_counts23FIPS[\"BorrowerState\"].value_counts()"
   ]
  }
 ],
 "metadata": {
  "kernelspec": {
   "display_name": "Python 3",
   "language": "python",
   "name": "python3"
  },
  "language_info": {
   "codemirror_mode": {
    "name": "ipython",
    "version": 3
   },
   "file_extension": ".py",
   "mimetype": "text/x-python",
   "name": "python",
   "nbconvert_exporter": "python",
   "pygments_lexer": "ipython3",
   "version": "3.7.9"
  },
  "orig_nbformat": 4
 },
 "nbformat": 4,
 "nbformat_minor": 2
}
